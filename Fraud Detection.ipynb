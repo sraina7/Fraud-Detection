{
 "cells": [
  {
   "cell_type": "markdown",
   "id": "e1b2a08e",
   "metadata": {},
   "source": [
    "# INSURANCE FRAUD DETECTION"
   ]
  },
  {
   "cell_type": "markdown",
   "id": "061f9d3e",
   "metadata": {},
   "source": [
    "*Problem: Whether the claim was fraudulent or not?*"
   ]
  },
  {
   "cell_type": "markdown",
   "id": "77db5e6c",
   "metadata": {},
   "source": [
    "***IMPORT LIBRARIES***"
   ]
  },
  {
   "cell_type": "code",
   "execution_count": 1,
   "id": "149fe82a",
   "metadata": {},
   "outputs": [],
   "source": [
    "import pandas as pd\n",
    "from sklearn.preprocessing import label_binarize\n",
    "import numpy as np\n",
    "from sklearn.model_selection import train_test_split\n",
    "from sklearn.ensemble import RandomForestClassifier\n",
    "from sklearn.tree import DecisionTreeClassifier\n",
    "from sklearn.model_selection import GridSearchCV\n",
    "from sklearn.model_selection import RandomizedSearchCV\n",
    "from sklearn.model_selection import cross_val_score\n",
    "from sklearn.metrics import classification_report, confusion_matrix\n",
    "from sklearn.ensemble import GradientBoostingClassifier\n",
    "from sklearn.preprocessing import OneHotEncoder\n",
    "from sklearn import metrics #Import scikit-learn metrics module for accuracy calculation\n",
    "\n",
    "import warnings\n",
    "warnings.filterwarnings(\"ignore\")\n",
    "#Please ignore the warnings with version change"
   ]
  },
  {
   "cell_type": "markdown",
   "id": "c5c0066c",
   "metadata": {},
   "source": [
    "***IMPORT TRAIN AND TEST DATASET***"
   ]
  },
  {
   "cell_type": "code",
   "execution_count": 2,
   "id": "7742d0f1",
   "metadata": {},
   "outputs": [
    {
     "name": "stdout",
     "output_type": "stream",
     "text": [
      "(2999, 32)\n",
      "(12918, 32)\n"
     ]
    }
   ],
   "source": [
    "trainfile = r'C:\\Users\\Shehjar Raina\\Desktop\\CIS 508 Data Mining\\IA2\\FraudTrain.csv'\n",
    "trainData = pd.read_csv(trainfile) #creates a dataframe\n",
    "testfile = r'C:\\Users\\Shehjar Raina\\Desktop\\CIS 508 Data Mining\\IA2\\FraudTest.csv'\n",
    "testData = pd.read_csv(testfile)\n",
    "\n",
    "print(trainData.shape)\n",
    "print(testData.shape)"
   ]
  },
  {
   "cell_type": "markdown",
   "id": "3ae77808",
   "metadata": {},
   "source": [
    "***READ TRAIN DATA***"
   ]
  },
  {
   "cell_type": "code",
   "execution_count": 3,
   "id": "95d852d3",
   "metadata": {},
   "outputs": [
    {
     "name": "stdout",
     "output_type": "stream",
     "text": [
      "<class 'pandas.core.frame.DataFrame'>\n",
      "RangeIndex: 2999 entries, 0 to 2998\n",
      "Data columns (total 32 columns):\n",
      " #   Column                Non-Null Count  Dtype \n",
      "---  ------                --------------  ----- \n",
      " 0   MONTH                 2999 non-null   object\n",
      " 1   WEEKOFMONTH           2999 non-null   int64 \n",
      " 2   DAYOFWEEK             2999 non-null   object\n",
      " 3   MAKE                  2999 non-null   object\n",
      " 4   ACCIDENTAREA          2999 non-null   object\n",
      " 5   DAYOFWEEKCLAIMED      2999 non-null   object\n",
      " 6   MONTHCLAIMED          2999 non-null   object\n",
      " 7   WEEKOFMONTHCLAIMED    2999 non-null   int64 \n",
      " 8   SEX                   2999 non-null   object\n",
      " 9   MARITALSTATUS         2999 non-null   object\n",
      " 10  AGE                   2999 non-null   int64 \n",
      " 11  FAULT                 2999 non-null   object\n",
      " 12  POLICYTYPE            2999 non-null   object\n",
      " 13  VEHICLECATEGORY       2999 non-null   object\n",
      " 14  VEHICLEPRICE          2999 non-null   object\n",
      " 15  REPNUMBER             2999 non-null   int64 \n",
      " 16  DEDUCTIBLE            2999 non-null   int64 \n",
      " 17  DRIVERRATING          2999 non-null   int64 \n",
      " 18  DAYS_POLICY_ACCIDENT  2999 non-null   object\n",
      " 19  DAYS_POLICY_CLAIM     2999 non-null   object\n",
      " 20  PASTNUMBEROFCLAIMS    2999 non-null   object\n",
      " 21  AGEOFVEHICLE          2999 non-null   object\n",
      " 22  AGEOFPOLICYHOLDER     2999 non-null   object\n",
      " 23  POLICEREPORTFILED     2999 non-null   object\n",
      " 24  WITNESSPRESENT        2999 non-null   object\n",
      " 25  AGENTTYPE             2999 non-null   object\n",
      " 26  NUMBEROFSUPPLIMENTS   2999 non-null   object\n",
      " 27  ADDRESSCHANGE_CLAIM   2999 non-null   object\n",
      " 28  NUMBEROFCARS          2999 non-null   object\n",
      " 29  YEAR                  2999 non-null   int64 \n",
      " 30  BASEPOLICY            2999 non-null   object\n",
      " 31  FRAUDFOUND            2999 non-null   object\n",
      "dtypes: int64(7), object(25)\n",
      "memory usage: 749.9+ KB\n"
     ]
    }
   ],
   "source": [
    "trainData.info()"
   ]
  },
  {
   "cell_type": "markdown",
   "id": "531e7829",
   "metadata": {},
   "source": [
    " ***READ TEST DATASET***"
   ]
  },
  {
   "cell_type": "code",
   "execution_count": 4,
   "id": "dc9c70ae",
   "metadata": {},
   "outputs": [
    {
     "name": "stdout",
     "output_type": "stream",
     "text": [
      "<class 'pandas.core.frame.DataFrame'>\n",
      "RangeIndex: 12918 entries, 0 to 12917\n",
      "Data columns (total 32 columns):\n",
      " #   Column                Non-Null Count  Dtype \n",
      "---  ------                --------------  ----- \n",
      " 0   MONTH                 12918 non-null  object\n",
      " 1   WEEKOFMONTH           12918 non-null  int64 \n",
      " 2   DAYOFWEEK             12918 non-null  object\n",
      " 3   MAKE                  12918 non-null  object\n",
      " 4   ACCIDENTAREA          12918 non-null  object\n",
      " 5   DAYOFWEEKCLAIMED      12918 non-null  object\n",
      " 6   MONTHCLAIMED          12918 non-null  object\n",
      " 7   WEEKOFMONTHCLAIMED    12918 non-null  int64 \n",
      " 8   SEX                   12918 non-null  object\n",
      " 9   MARITALSTATUS         12918 non-null  object\n",
      " 10  AGE                   12918 non-null  int64 \n",
      " 11  FAULT                 12918 non-null  object\n",
      " 12  POLICYTYPE            12918 non-null  object\n",
      " 13  VEHICLECATEGORY       12918 non-null  object\n",
      " 14  VEHICLEPRICE          12918 non-null  object\n",
      " 15  REPNUMBER             12918 non-null  int64 \n",
      " 16  DEDUCTIBLE            12918 non-null  int64 \n",
      " 17  DRIVERRATING          12918 non-null  int64 \n",
      " 18  DAYS_POLICY_ACCIDENT  12918 non-null  object\n",
      " 19  DAYS_POLICY_CLAIM     12918 non-null  object\n",
      " 20  PASTNUMBEROFCLAIMS    12918 non-null  object\n",
      " 21  AGEOFVEHICLE          12918 non-null  object\n",
      " 22  AGEOFPOLICYHOLDER     12918 non-null  object\n",
      " 23  POLICEREPORTFILED     12918 non-null  object\n",
      " 24  WITNESSPRESENT        12918 non-null  object\n",
      " 25  AGENTTYPE             12918 non-null  object\n",
      " 26  NUMBEROFSUPPLIMENTS   12918 non-null  object\n",
      " 27  ADDRESSCHANGE_CLAIM   12918 non-null  object\n",
      " 28  NUMBEROFCARS          12918 non-null  object\n",
      " 29  YEAR                  12918 non-null  int64 \n",
      " 30  BASEPOLICY            12918 non-null  object\n",
      " 31  FRAUDFOUND            12918 non-null  object\n",
      "dtypes: int64(7), object(25)\n",
      "memory usage: 3.2+ MB\n"
     ]
    }
   ],
   "source": [
    "testData.info()"
   ]
  },
  {
   "cell_type": "markdown",
   "id": "9543efb1",
   "metadata": {},
   "source": [
    "***CHECK FOR MISSING VALUES***"
   ]
  },
  {
   "cell_type": "code",
   "execution_count": 5,
   "id": "32ca54a7",
   "metadata": {},
   "outputs": [
    {
     "data": {
      "text/plain": [
       "MONTH                   0\n",
       "WEEKOFMONTH             0\n",
       "BASEPOLICY              0\n",
       "YEAR                    0\n",
       "NUMBEROFCARS            0\n",
       "ADDRESSCHANGE_CLAIM     0\n",
       "NUMBEROFSUPPLIMENTS     0\n",
       "AGENTTYPE               0\n",
       "WITNESSPRESENT          0\n",
       "POLICEREPORTFILED       0\n",
       "AGEOFPOLICYHOLDER       0\n",
       "AGEOFVEHICLE            0\n",
       "PASTNUMBEROFCLAIMS      0\n",
       "DAYS_POLICY_CLAIM       0\n",
       "DAYS_POLICY_ACCIDENT    0\n",
       "DRIVERRATING            0\n",
       "DEDUCTIBLE              0\n",
       "REPNUMBER               0\n",
       "VEHICLEPRICE            0\n",
       "VEHICLECATEGORY         0\n",
       "POLICYTYPE              0\n",
       "FAULT                   0\n",
       "AGE                     0\n",
       "MARITALSTATUS           0\n",
       "SEX                     0\n",
       "WEEKOFMONTHCLAIMED      0\n",
       "MONTHCLAIMED            0\n",
       "DAYOFWEEKCLAIMED        0\n",
       "ACCIDENTAREA            0\n",
       "MAKE                    0\n",
       "DAYOFWEEK               0\n",
       "FRAUDFOUND              0\n",
       "dtype: int64"
      ]
     },
     "execution_count": 5,
     "metadata": {},
     "output_type": "execute_result"
    }
   ],
   "source": [
    "trainData.isnull().sum().sort_values(ascending=False)"
   ]
  },
  {
   "cell_type": "markdown",
   "id": "180afe31",
   "metadata": {},
   "source": [
    "***DESCRIBE***"
   ]
  },
  {
   "cell_type": "code",
   "execution_count": 6,
   "id": "24edc04a",
   "metadata": {},
   "outputs": [
    {
     "data": {
      "text/html": [
       "<div>\n",
       "<style scoped>\n",
       "    .dataframe tbody tr th:only-of-type {\n",
       "        vertical-align: middle;\n",
       "    }\n",
       "\n",
       "    .dataframe tbody tr th {\n",
       "        vertical-align: top;\n",
       "    }\n",
       "\n",
       "    .dataframe thead th {\n",
       "        text-align: right;\n",
       "    }\n",
       "</style>\n",
       "<table border=\"1\" class=\"dataframe\">\n",
       "  <thead>\n",
       "    <tr style=\"text-align: right;\">\n",
       "      <th></th>\n",
       "      <th>WEEKOFMONTH</th>\n",
       "      <th>WEEKOFMONTHCLAIMED</th>\n",
       "      <th>AGE</th>\n",
       "      <th>REPNUMBER</th>\n",
       "      <th>DEDUCTIBLE</th>\n",
       "      <th>DRIVERRATING</th>\n",
       "      <th>YEAR</th>\n",
       "    </tr>\n",
       "  </thead>\n",
       "  <tbody>\n",
       "    <tr>\n",
       "      <th>count</th>\n",
       "      <td>2999.000000</td>\n",
       "      <td>2999.000000</td>\n",
       "      <td>2999.000000</td>\n",
       "      <td>2999.000000</td>\n",
       "      <td>2999.000000</td>\n",
       "      <td>2999.000000</td>\n",
       "      <td>2999.000000</td>\n",
       "    </tr>\n",
       "    <tr>\n",
       "      <th>mean</th>\n",
       "      <td>2.781260</td>\n",
       "      <td>2.671224</td>\n",
       "      <td>40.055352</td>\n",
       "      <td>8.511837</td>\n",
       "      <td>407.302434</td>\n",
       "      <td>2.496832</td>\n",
       "      <td>1995.114038</td>\n",
       "    </tr>\n",
       "    <tr>\n",
       "      <th>std</th>\n",
       "      <td>1.286055</td>\n",
       "      <td>1.261614</td>\n",
       "      <td>13.497026</td>\n",
       "      <td>4.601437</td>\n",
       "      <td>41.847258</td>\n",
       "      <td>1.118365</td>\n",
       "      <td>0.606007</td>\n",
       "    </tr>\n",
       "    <tr>\n",
       "      <th>min</th>\n",
       "      <td>1.000000</td>\n",
       "      <td>1.000000</td>\n",
       "      <td>0.000000</td>\n",
       "      <td>1.000000</td>\n",
       "      <td>300.000000</td>\n",
       "      <td>1.000000</td>\n",
       "      <td>1994.000000</td>\n",
       "    </tr>\n",
       "    <tr>\n",
       "      <th>25%</th>\n",
       "      <td>2.000000</td>\n",
       "      <td>2.000000</td>\n",
       "      <td>31.000000</td>\n",
       "      <td>4.000000</td>\n",
       "      <td>400.000000</td>\n",
       "      <td>1.000000</td>\n",
       "      <td>1995.000000</td>\n",
       "    </tr>\n",
       "    <tr>\n",
       "      <th>50%</th>\n",
       "      <td>3.000000</td>\n",
       "      <td>3.000000</td>\n",
       "      <td>38.000000</td>\n",
       "      <td>9.000000</td>\n",
       "      <td>400.000000</td>\n",
       "      <td>2.000000</td>\n",
       "      <td>1995.000000</td>\n",
       "    </tr>\n",
       "    <tr>\n",
       "      <th>75%</th>\n",
       "      <td>4.000000</td>\n",
       "      <td>4.000000</td>\n",
       "      <td>49.000000</td>\n",
       "      <td>12.000000</td>\n",
       "      <td>400.000000</td>\n",
       "      <td>3.000000</td>\n",
       "      <td>1995.000000</td>\n",
       "    </tr>\n",
       "    <tr>\n",
       "      <th>max</th>\n",
       "      <td>5.000000</td>\n",
       "      <td>5.000000</td>\n",
       "      <td>80.000000</td>\n",
       "      <td>16.000000</td>\n",
       "      <td>700.000000</td>\n",
       "      <td>4.000000</td>\n",
       "      <td>1996.000000</td>\n",
       "    </tr>\n",
       "  </tbody>\n",
       "</table>\n",
       "</div>"
      ],
      "text/plain": [
       "       WEEKOFMONTH  WEEKOFMONTHCLAIMED          AGE    REPNUMBER   DEDUCTIBLE  \\\n",
       "count  2999.000000         2999.000000  2999.000000  2999.000000  2999.000000   \n",
       "mean      2.781260            2.671224    40.055352     8.511837   407.302434   \n",
       "std       1.286055            1.261614    13.497026     4.601437    41.847258   \n",
       "min       1.000000            1.000000     0.000000     1.000000   300.000000   \n",
       "25%       2.000000            2.000000    31.000000     4.000000   400.000000   \n",
       "50%       3.000000            3.000000    38.000000     9.000000   400.000000   \n",
       "75%       4.000000            4.000000    49.000000    12.000000   400.000000   \n",
       "max       5.000000            5.000000    80.000000    16.000000   700.000000   \n",
       "\n",
       "       DRIVERRATING         YEAR  \n",
       "count   2999.000000  2999.000000  \n",
       "mean       2.496832  1995.114038  \n",
       "std        1.118365     0.606007  \n",
       "min        1.000000  1994.000000  \n",
       "25%        1.000000  1995.000000  \n",
       "50%        2.000000  1995.000000  \n",
       "75%        3.000000  1995.000000  \n",
       "max        4.000000  1996.000000  "
      ]
     },
     "execution_count": 6,
     "metadata": {},
     "output_type": "execute_result"
    }
   ],
   "source": [
    "trainData.describe()"
   ]
  },
  {
   "cell_type": "code",
   "execution_count": 7,
   "id": "5e4168d4",
   "metadata": {},
   "outputs": [
    {
     "name": "stdout",
     "output_type": "stream",
     "text": [
      "Train Data Columns\n",
      "['MONTH', 'WEEKOFMONTH', 'DAYOFWEEK', 'MAKE', 'ACCIDENTAREA', 'DAYOFWEEKCLAIMED', 'MONTHCLAIMED', 'WEEKOFMONTHCLAIMED', 'SEX', 'MARITALSTATUS', 'AGE', 'FAULT', 'POLICYTYPE', 'VEHICLECATEGORY', 'VEHICLEPRICE', 'REPNUMBER', 'DEDUCTIBLE', 'DRIVERRATING', 'DAYS_POLICY_ACCIDENT', 'DAYS_POLICY_CLAIM', 'PASTNUMBEROFCLAIMS', 'AGEOFVEHICLE', 'AGEOFPOLICYHOLDER', 'POLICEREPORTFILED', 'WITNESSPRESENT', 'AGENTTYPE', 'NUMBEROFSUPPLIMENTS', 'ADDRESSCHANGE_CLAIM', 'NUMBEROFCARS', 'YEAR', 'BASEPOLICY', 'FRAUDFOUND']\n",
      "\n",
      "Test Data Columns\n",
      "['MONTH', 'WEEKOFMONTH', 'DAYOFWEEK', 'MAKE', 'ACCIDENTAREA', 'DAYOFWEEKCLAIMED', 'MONTHCLAIMED', 'WEEKOFMONTHCLAIMED', 'SEX', 'MARITALSTATUS', 'AGE', 'FAULT', 'POLICYTYPE', 'VEHICLECATEGORY', 'VEHICLEPRICE', 'REPNUMBER', 'DEDUCTIBLE', 'DRIVERRATING', 'DAYS_POLICY_ACCIDENT', 'DAYS_POLICY_CLAIM', 'PASTNUMBEROFCLAIMS', 'AGEOFVEHICLE', 'AGEOFPOLICYHOLDER', 'POLICEREPORTFILED', 'WITNESSPRESENT', 'AGENTTYPE', 'NUMBEROFSUPPLIMENTS', 'ADDRESSCHANGE_CLAIM', 'NUMBEROFCARS', 'YEAR', 'BASEPOLICY', 'FRAUDFOUND']\n"
     ]
    }
   ],
   "source": [
    "TrainCols = list(trainData.columns.values)\n",
    "TestCols = list(testData.columns.values)\n",
    "print(\"Train Data Columns\")\n",
    "print(TrainCols)\n",
    "print()\n",
    "print(\"Test Data Columns\")\n",
    "print(TestCols)"
   ]
  },
  {
   "cell_type": "markdown",
   "id": "429077b2",
   "metadata": {},
   "source": [
    "***SEPARATE TARGET COLUMN FROM TRAIN DATASET***"
   ]
  },
  {
   "cell_type": "code",
   "execution_count": 8,
   "id": "e91f91c2",
   "metadata": {},
   "outputs": [
    {
     "name": "stdout",
     "output_type": "stream",
     "text": [
      "Train Set shape:\n",
      "(2999, 31)\n",
      "(2999, 1)\n",
      "Test Set shape:\n",
      "(12918, 31)\n",
      "(12918, 1)\n"
     ]
    }
   ],
   "source": [
    "# Seperate Target column from Train Data\n",
    "Xtrain = trainData[TrainCols[0:len(TrainCols)-1]].copy()\n",
    "Ytrain = trainData[['FRAUDFOUND']].copy()\n",
    "print(\"Train Set shape:\")\n",
    "print(Xtrain.shape)\n",
    "print(Ytrain.shape)\n",
    "Xtest = testData[TestCols[0:len(TestCols)-1]].copy()\n",
    "Ytest = testData[['FRAUDFOUND']].copy()\n",
    "print(\"Test Set shape:\")\n",
    "print(Xtest.shape)\n",
    "print(Ytest.shape)"
   ]
  },
  {
   "cell_type": "markdown",
   "id": "fc249dbd",
   "metadata": {},
   "source": [
    "***LIST ALL CATEGORICAL FEATURES***"
   ]
  },
  {
   "cell_type": "code",
   "execution_count": 9,
   "id": "efd99b04",
   "metadata": {},
   "outputs": [],
   "source": [
    "#List of Categorical Features\n",
    "categoricalFeatures = ['MONTH','DAYOFWEEK', 'MAKE', 'ACCIDENTAREA', 'DAYOFWEEKCLAIMED', 'MONTHCLAIMED', 'SEX', \n",
    "                       'MARITALSTATUS','FAULT', 'POLICYTYPE', 'VEHICLECATEGORY', 'VEHICLEPRICE', 'DEDUCTIBLE', \n",
    "                       'DRIVERRATING', 'DAYS_POLICY_ACCIDENT', 'DAYS_POLICY_CLAIM', 'PASTNUMBEROFCLAIMS', \n",
    "                       'AGEOFVEHICLE', 'AGEOFPOLICYHOLDER', 'POLICEREPORTFILED', 'WITNESSPRESENT', 'AGENTTYPE', \n",
    "                       'NUMBEROFSUPPLIMENTS', 'ADDRESSCHANGE_CLAIM', 'NUMBEROFCARS', 'BASEPOLICY']"
   ]
  },
  {
   "cell_type": "markdown",
   "id": "9e89085f",
   "metadata": {},
   "source": [
    "***ONE HOT ENCODING ON TRAIN DATASET***"
   ]
  },
  {
   "cell_type": "code",
   "execution_count": 10,
   "id": "11b016c5",
   "metadata": {},
   "outputs": [
    {
     "data": {
      "text/html": [
       "<div>\n",
       "<style scoped>\n",
       "    .dataframe tbody tr th:only-of-type {\n",
       "        vertical-align: middle;\n",
       "    }\n",
       "\n",
       "    .dataframe tbody tr th {\n",
       "        vertical-align: top;\n",
       "    }\n",
       "\n",
       "    .dataframe thead th {\n",
       "        text-align: right;\n",
       "    }\n",
       "</style>\n",
       "<table border=\"1\" class=\"dataframe\">\n",
       "  <thead>\n",
       "    <tr style=\"text-align: right;\">\n",
       "      <th></th>\n",
       "      <th>WEEKOFMONTH</th>\n",
       "      <th>WEEKOFMONTHCLAIMED</th>\n",
       "      <th>AGE</th>\n",
       "      <th>REPNUMBER</th>\n",
       "      <th>YEAR</th>\n",
       "      <th>x0_Apr</th>\n",
       "      <th>x0_Aug</th>\n",
       "      <th>x0_Dec</th>\n",
       "      <th>x0_Feb</th>\n",
       "      <th>x0_Jan</th>\n",
       "      <th>...</th>\n",
       "      <th>x23_4_to_8_years</th>\n",
       "      <th>x23_no_change</th>\n",
       "      <th>x23_under_6_months</th>\n",
       "      <th>x24_1-vehicle</th>\n",
       "      <th>x24_2-vehicles</th>\n",
       "      <th>x24_3_to_4</th>\n",
       "      <th>x24_5_to_8</th>\n",
       "      <th>x25_All_Perils</th>\n",
       "      <th>x25_Collision</th>\n",
       "      <th>x25_Liability</th>\n",
       "    </tr>\n",
       "  </thead>\n",
       "  <tbody>\n",
       "    <tr>\n",
       "      <th>2588</th>\n",
       "      <td>1</td>\n",
       "      <td>1</td>\n",
       "      <td>53</td>\n",
       "      <td>16</td>\n",
       "      <td>1996</td>\n",
       "      <td>0.0</td>\n",
       "      <td>1.0</td>\n",
       "      <td>0.0</td>\n",
       "      <td>0.0</td>\n",
       "      <td>0.0</td>\n",
       "      <td>...</td>\n",
       "      <td>0.0</td>\n",
       "      <td>1.0</td>\n",
       "      <td>0.0</td>\n",
       "      <td>1.0</td>\n",
       "      <td>0.0</td>\n",
       "      <td>0.0</td>\n",
       "      <td>0.0</td>\n",
       "      <td>0.0</td>\n",
       "      <td>0.0</td>\n",
       "      <td>1.0</td>\n",
       "    </tr>\n",
       "    <tr>\n",
       "      <th>930</th>\n",
       "      <td>3</td>\n",
       "      <td>3</td>\n",
       "      <td>56</td>\n",
       "      <td>7</td>\n",
       "      <td>1994</td>\n",
       "      <td>0.0</td>\n",
       "      <td>0.0</td>\n",
       "      <td>0.0</td>\n",
       "      <td>0.0</td>\n",
       "      <td>0.0</td>\n",
       "      <td>...</td>\n",
       "      <td>0.0</td>\n",
       "      <td>1.0</td>\n",
       "      <td>0.0</td>\n",
       "      <td>1.0</td>\n",
       "      <td>0.0</td>\n",
       "      <td>0.0</td>\n",
       "      <td>0.0</td>\n",
       "      <td>0.0</td>\n",
       "      <td>0.0</td>\n",
       "      <td>1.0</td>\n",
       "    </tr>\n",
       "    <tr>\n",
       "      <th>1941</th>\n",
       "      <td>1</td>\n",
       "      <td>3</td>\n",
       "      <td>45</td>\n",
       "      <td>11</td>\n",
       "      <td>1995</td>\n",
       "      <td>1.0</td>\n",
       "      <td>0.0</td>\n",
       "      <td>0.0</td>\n",
       "      <td>0.0</td>\n",
       "      <td>0.0</td>\n",
       "      <td>...</td>\n",
       "      <td>0.0</td>\n",
       "      <td>1.0</td>\n",
       "      <td>0.0</td>\n",
       "      <td>1.0</td>\n",
       "      <td>0.0</td>\n",
       "      <td>0.0</td>\n",
       "      <td>0.0</td>\n",
       "      <td>0.0</td>\n",
       "      <td>0.0</td>\n",
       "      <td>1.0</td>\n",
       "    </tr>\n",
       "    <tr>\n",
       "      <th>432</th>\n",
       "      <td>1</td>\n",
       "      <td>1</td>\n",
       "      <td>31</td>\n",
       "      <td>1</td>\n",
       "      <td>1994</td>\n",
       "      <td>0.0</td>\n",
       "      <td>1.0</td>\n",
       "      <td>0.0</td>\n",
       "      <td>0.0</td>\n",
       "      <td>0.0</td>\n",
       "      <td>...</td>\n",
       "      <td>0.0</td>\n",
       "      <td>1.0</td>\n",
       "      <td>0.0</td>\n",
       "      <td>1.0</td>\n",
       "      <td>0.0</td>\n",
       "      <td>0.0</td>\n",
       "      <td>0.0</td>\n",
       "      <td>0.0</td>\n",
       "      <td>0.0</td>\n",
       "      <td>1.0</td>\n",
       "    </tr>\n",
       "    <tr>\n",
       "      <th>1558</th>\n",
       "      <td>3</td>\n",
       "      <td>4</td>\n",
       "      <td>46</td>\n",
       "      <td>1</td>\n",
       "      <td>1995</td>\n",
       "      <td>0.0</td>\n",
       "      <td>1.0</td>\n",
       "      <td>0.0</td>\n",
       "      <td>0.0</td>\n",
       "      <td>0.0</td>\n",
       "      <td>...</td>\n",
       "      <td>0.0</td>\n",
       "      <td>1.0</td>\n",
       "      <td>0.0</td>\n",
       "      <td>1.0</td>\n",
       "      <td>0.0</td>\n",
       "      <td>0.0</td>\n",
       "      <td>0.0</td>\n",
       "      <td>0.0</td>\n",
       "      <td>1.0</td>\n",
       "      <td>0.0</td>\n",
       "    </tr>\n",
       "  </tbody>\n",
       "</table>\n",
       "<p>5 rows × 145 columns</p>\n",
       "</div>"
      ],
      "text/plain": [
       "      WEEKOFMONTH  WEEKOFMONTHCLAIMED  AGE  REPNUMBER  YEAR  x0_Apr  x0_Aug  \\\n",
       "2588            1                   1   53         16  1996     0.0     1.0   \n",
       "930             3                   3   56          7  1994     0.0     0.0   \n",
       "1941            1                   3   45         11  1995     1.0     0.0   \n",
       "432             1                   1   31          1  1994     0.0     1.0   \n",
       "1558            3                   4   46          1  1995     0.0     1.0   \n",
       "\n",
       "      x0_Dec  x0_Feb  x0_Jan  ...  x23_4_to_8_years  x23_no_change  \\\n",
       "2588     0.0     0.0     0.0  ...               0.0            1.0   \n",
       "930      0.0     0.0     0.0  ...               0.0            1.0   \n",
       "1941     0.0     0.0     0.0  ...               0.0            1.0   \n",
       "432      0.0     0.0     0.0  ...               0.0            1.0   \n",
       "1558     0.0     0.0     0.0  ...               0.0            1.0   \n",
       "\n",
       "      x23_under_6_months  x24_1-vehicle  x24_2-vehicles  x24_3_to_4  \\\n",
       "2588                 0.0            1.0             0.0         0.0   \n",
       "930                  0.0            1.0             0.0         0.0   \n",
       "1941                 0.0            1.0             0.0         0.0   \n",
       "432                  0.0            1.0             0.0         0.0   \n",
       "1558                 0.0            1.0             0.0         0.0   \n",
       "\n",
       "      x24_5_to_8  x25_All_Perils  x25_Collision  x25_Liability  \n",
       "2588         0.0             0.0            0.0            1.0  \n",
       "930          0.0             0.0            0.0            1.0  \n",
       "1941         0.0             0.0            0.0            1.0  \n",
       "432          0.0             0.0            0.0            1.0  \n",
       "1558         0.0             0.0            1.0            0.0  \n",
       "\n",
       "[5 rows x 145 columns]"
      ]
     },
     "execution_count": 10,
     "metadata": {},
     "output_type": "execute_result"
    }
   ],
   "source": [
    "# OneHotEncoding on Train (fit & transform)\n",
    "# OneHotEncoding is to be done on Categorical variables.\n",
    "ohe = OneHotEncoder(handle_unknown='ignore',sparse=False)\n",
    "Xcat = pd.DataFrame(ohe.fit_transform(Xtrain[categoricalFeatures]),columns=ohe.get_feature_names(),index=Xtrain.index)\n",
    "Xtrain = pd.concat([Xtrain,Xcat],axis=1)\n",
    "Xtrain.drop(labels=categoricalFeatures,axis=1,inplace=True)\n",
    "Xtrain.sample(5)"
   ]
  },
  {
   "cell_type": "markdown",
   "id": "10f897f8",
   "metadata": {},
   "source": [
    "***ONE HOT ENCODING ON TEST DATASET***"
   ]
  },
  {
   "cell_type": "code",
   "execution_count": 11,
   "id": "083e8918",
   "metadata": {},
   "outputs": [
    {
     "data": {
      "text/html": [
       "<div>\n",
       "<style scoped>\n",
       "    .dataframe tbody tr th:only-of-type {\n",
       "        vertical-align: middle;\n",
       "    }\n",
       "\n",
       "    .dataframe tbody tr th {\n",
       "        vertical-align: top;\n",
       "    }\n",
       "\n",
       "    .dataframe thead th {\n",
       "        text-align: right;\n",
       "    }\n",
       "</style>\n",
       "<table border=\"1\" class=\"dataframe\">\n",
       "  <thead>\n",
       "    <tr style=\"text-align: right;\">\n",
       "      <th></th>\n",
       "      <th>WEEKOFMONTH</th>\n",
       "      <th>WEEKOFMONTHCLAIMED</th>\n",
       "      <th>AGE</th>\n",
       "      <th>REPNUMBER</th>\n",
       "      <th>YEAR</th>\n",
       "      <th>x0_Apr</th>\n",
       "      <th>x0_Aug</th>\n",
       "      <th>x0_Dec</th>\n",
       "      <th>x0_Feb</th>\n",
       "      <th>x0_Jan</th>\n",
       "      <th>...</th>\n",
       "      <th>x23_4_to_8_years</th>\n",
       "      <th>x23_no_change</th>\n",
       "      <th>x23_under_6_months</th>\n",
       "      <th>x24_1-vehicle</th>\n",
       "      <th>x24_2-vehicles</th>\n",
       "      <th>x24_3_to_4</th>\n",
       "      <th>x24_5_to_8</th>\n",
       "      <th>x25_All_Perils</th>\n",
       "      <th>x25_Collision</th>\n",
       "      <th>x25_Liability</th>\n",
       "    </tr>\n",
       "  </thead>\n",
       "  <tbody>\n",
       "    <tr>\n",
       "      <th>8282</th>\n",
       "      <td>3</td>\n",
       "      <td>4</td>\n",
       "      <td>0</td>\n",
       "      <td>7</td>\n",
       "      <td>1996</td>\n",
       "      <td>0.0</td>\n",
       "      <td>0.0</td>\n",
       "      <td>0.0</td>\n",
       "      <td>0.0</td>\n",
       "      <td>0.0</td>\n",
       "      <td>...</td>\n",
       "      <td>0.0</td>\n",
       "      <td>1.0</td>\n",
       "      <td>0.0</td>\n",
       "      <td>1.0</td>\n",
       "      <td>0.0</td>\n",
       "      <td>0.0</td>\n",
       "      <td>0.0</td>\n",
       "      <td>1.0</td>\n",
       "      <td>0.0</td>\n",
       "      <td>0.0</td>\n",
       "    </tr>\n",
       "    <tr>\n",
       "      <th>4447</th>\n",
       "      <td>5</td>\n",
       "      <td>1</td>\n",
       "      <td>53</td>\n",
       "      <td>5</td>\n",
       "      <td>1995</td>\n",
       "      <td>0.0</td>\n",
       "      <td>0.0</td>\n",
       "      <td>0.0</td>\n",
       "      <td>0.0</td>\n",
       "      <td>0.0</td>\n",
       "      <td>...</td>\n",
       "      <td>0.0</td>\n",
       "      <td>0.0</td>\n",
       "      <td>0.0</td>\n",
       "      <td>0.0</td>\n",
       "      <td>1.0</td>\n",
       "      <td>0.0</td>\n",
       "      <td>0.0</td>\n",
       "      <td>1.0</td>\n",
       "      <td>0.0</td>\n",
       "      <td>0.0</td>\n",
       "    </tr>\n",
       "    <tr>\n",
       "      <th>11709</th>\n",
       "      <td>1</td>\n",
       "      <td>1</td>\n",
       "      <td>30</td>\n",
       "      <td>16</td>\n",
       "      <td>1994</td>\n",
       "      <td>0.0</td>\n",
       "      <td>0.0</td>\n",
       "      <td>0.0</td>\n",
       "      <td>0.0</td>\n",
       "      <td>0.0</td>\n",
       "      <td>...</td>\n",
       "      <td>0.0</td>\n",
       "      <td>1.0</td>\n",
       "      <td>0.0</td>\n",
       "      <td>1.0</td>\n",
       "      <td>0.0</td>\n",
       "      <td>0.0</td>\n",
       "      <td>0.0</td>\n",
       "      <td>0.0</td>\n",
       "      <td>1.0</td>\n",
       "      <td>0.0</td>\n",
       "    </tr>\n",
       "    <tr>\n",
       "      <th>7362</th>\n",
       "      <td>3</td>\n",
       "      <td>4</td>\n",
       "      <td>30</td>\n",
       "      <td>7</td>\n",
       "      <td>1994</td>\n",
       "      <td>0.0</td>\n",
       "      <td>0.0</td>\n",
       "      <td>0.0</td>\n",
       "      <td>0.0</td>\n",
       "      <td>0.0</td>\n",
       "      <td>...</td>\n",
       "      <td>0.0</td>\n",
       "      <td>1.0</td>\n",
       "      <td>0.0</td>\n",
       "      <td>1.0</td>\n",
       "      <td>0.0</td>\n",
       "      <td>0.0</td>\n",
       "      <td>0.0</td>\n",
       "      <td>0.0</td>\n",
       "      <td>0.0</td>\n",
       "      <td>1.0</td>\n",
       "    </tr>\n",
       "    <tr>\n",
       "      <th>3814</th>\n",
       "      <td>2</td>\n",
       "      <td>3</td>\n",
       "      <td>54</td>\n",
       "      <td>3</td>\n",
       "      <td>1996</td>\n",
       "      <td>0.0</td>\n",
       "      <td>0.0</td>\n",
       "      <td>0.0</td>\n",
       "      <td>0.0</td>\n",
       "      <td>1.0</td>\n",
       "      <td>...</td>\n",
       "      <td>0.0</td>\n",
       "      <td>1.0</td>\n",
       "      <td>0.0</td>\n",
       "      <td>1.0</td>\n",
       "      <td>0.0</td>\n",
       "      <td>0.0</td>\n",
       "      <td>0.0</td>\n",
       "      <td>1.0</td>\n",
       "      <td>0.0</td>\n",
       "      <td>0.0</td>\n",
       "    </tr>\n",
       "  </tbody>\n",
       "</table>\n",
       "<p>5 rows × 145 columns</p>\n",
       "</div>"
      ],
      "text/plain": [
       "       WEEKOFMONTH  WEEKOFMONTHCLAIMED  AGE  REPNUMBER  YEAR  x0_Apr  x0_Aug  \\\n",
       "8282             3                   4    0          7  1996     0.0     0.0   \n",
       "4447             5                   1   53          5  1995     0.0     0.0   \n",
       "11709            1                   1   30         16  1994     0.0     0.0   \n",
       "7362             3                   4   30          7  1994     0.0     0.0   \n",
       "3814             2                   3   54          3  1996     0.0     0.0   \n",
       "\n",
       "       x0_Dec  x0_Feb  x0_Jan  ...  x23_4_to_8_years  x23_no_change  \\\n",
       "8282      0.0     0.0     0.0  ...               0.0            1.0   \n",
       "4447      0.0     0.0     0.0  ...               0.0            0.0   \n",
       "11709     0.0     0.0     0.0  ...               0.0            1.0   \n",
       "7362      0.0     0.0     0.0  ...               0.0            1.0   \n",
       "3814      0.0     0.0     1.0  ...               0.0            1.0   \n",
       "\n",
       "       x23_under_6_months  x24_1-vehicle  x24_2-vehicles  x24_3_to_4  \\\n",
       "8282                  0.0            1.0             0.0         0.0   \n",
       "4447                  0.0            0.0             1.0         0.0   \n",
       "11709                 0.0            1.0             0.0         0.0   \n",
       "7362                  0.0            1.0             0.0         0.0   \n",
       "3814                  0.0            1.0             0.0         0.0   \n",
       "\n",
       "       x24_5_to_8  x25_All_Perils  x25_Collision  x25_Liability  \n",
       "8282          0.0             1.0            0.0            0.0  \n",
       "4447          0.0             1.0            0.0            0.0  \n",
       "11709         0.0             0.0            1.0            0.0  \n",
       "7362          0.0             0.0            0.0            1.0  \n",
       "3814          0.0             1.0            0.0            0.0  \n",
       "\n",
       "[5 rows x 145 columns]"
      ]
     },
     "execution_count": 11,
     "metadata": {},
     "output_type": "execute_result"
    }
   ],
   "source": [
    "# OneHotEncoding on Test (only transform)\n",
    "# OneHotEncoding is to be done on Categorical variables.\n",
    "Xcat = pd.DataFrame(ohe.transform(Xtest[categoricalFeatures]),columns=ohe.get_feature_names(),index=Xtest.index)\n",
    "Xtest = pd.concat([Xtest,Xcat],axis=1)\n",
    "Xtest.drop(labels=categoricalFeatures,axis=1,inplace=True)\n",
    "Xtest.sample(5)"
   ]
  },
  {
   "cell_type": "markdown",
   "id": "6b815a6b",
   "metadata": {},
   "source": [
    "***INITIALIZE DECISION TREE CLASSIFIER***"
   ]
  },
  {
   "cell_type": "code",
   "execution_count": 12,
   "id": "d4ba62e9",
   "metadata": {},
   "outputs": [
    {
     "data": {
      "text/plain": [
       "DecisionTreeClassifier()"
      ]
     },
     "execution_count": 12,
     "metadata": {},
     "output_type": "execute_result"
    }
   ],
   "source": [
    "dt = DecisionTreeClassifier()\n",
    "dt.fit(Xtrain, Ytrain)"
   ]
  },
  {
   "cell_type": "code",
   "execution_count": 13,
   "id": "997df284",
   "metadata": {},
   "outputs": [
    {
     "name": "stdout",
     "output_type": "stream",
     "text": [
      "Train Accuracy: 1.0\n",
      "Test Accuracy: 0.8814832017340145\n",
      "Confusion Matrix for Decision Tree:\n",
      "[[10943  1477]\n",
      " [   54   444]]\n",
      "Max Depth 23\n",
      "Leaf 286\n",
      "Printing the precision and recall, among other metrics\n",
      "              precision    recall  f1-score   support\n",
      "\n",
      "          No       1.00      0.88      0.93     12420\n",
      "         Yes       0.23      0.89      0.37       498\n",
      "\n",
      "    accuracy                           0.88     12918\n",
      "   macro avg       0.61      0.89      0.65     12918\n",
      "weighted avg       0.97      0.88      0.91     12918\n",
      "\n",
      "Accuracy of Model with Cross Validation is: 81.39319955406911\n"
     ]
    }
   ],
   "source": [
    "X_Pred = dt.predict(Xtest)\n",
    "XPred = dt.predict(Xtrain)\n",
    "#Model Accuracy\n",
    "print(\"Train Accuracy:\", metrics.accuracy_score(Ytrain,XPred))\n",
    "print(\"Test Accuracy:\", metrics.accuracy_score(Ytest,X_Pred))\n",
    "print(\"Confusion Matrix for Decision Tree:\")\n",
    "print(confusion_matrix(Ytest,X_Pred))\n",
    "print(\"Max Depth\",dt.get_depth())\n",
    "print(\"Leaf\",dt.get_n_leaves())\n",
    "print('Printing the precision and recall, among other metrics')\n",
    "print(metrics.classification_report(Ytest, X_Pred))\n",
    "clf_cv_score = cross_val_score(dt, Xtrain, Ytrain, cv=10, scoring=\"accuracy\")\n",
    "print(\"Accuracy of Model with Cross Validation is:\",clf_cv_score.mean() * 100)"
   ]
  },
  {
   "cell_type": "markdown",
   "id": "381a2b45",
   "metadata": {},
   "source": [
    "***INITIALIZE RANDOM FOREST CLASSIFIER***"
   ]
  },
  {
   "cell_type": "code",
   "execution_count": 14,
   "id": "31710244",
   "metadata": {},
   "outputs": [
    {
     "data": {
      "text/plain": [
       "RandomForestClassifier()"
      ]
     },
     "execution_count": 14,
     "metadata": {},
     "output_type": "execute_result"
    }
   ],
   "source": [
    "rf = RandomForestClassifier()\n",
    "rf.fit(Xtrain, Ytrain)"
   ]
  },
  {
   "cell_type": "code",
   "execution_count": 15,
   "id": "3d49609b",
   "metadata": {},
   "outputs": [
    {
     "name": "stdout",
     "output_type": "stream",
     "text": [
      "Train Accuracy: 1.0\n",
      "Test Accuracy: 0.9664034680291067\n",
      "Confusion Matrix for Random Forest:\n",
      "[[12065   355]\n",
      " [   79   419]]\n",
      "Printing the precision and recall, among other metrics\n",
      "              precision    recall  f1-score   support\n",
      "\n",
      "          No       0.99      0.97      0.98     12420\n",
      "         Yes       0.54      0.84      0.66       498\n",
      "\n",
      "    accuracy                           0.97     12918\n",
      "   macro avg       0.77      0.91      0.82     12918\n",
      "weighted avg       0.98      0.97      0.97     12918\n",
      "\n",
      "Accuracy of Model with Cross Validation is: 88.19654403567448\n"
     ]
    }
   ],
   "source": [
    "X_Pred1 = rf.predict(Xtest)\n",
    "XPred1 = rf.predict(Xtrain)\n",
    "#Model Accuracy\n",
    "print(\"Train Accuracy:\", metrics.accuracy_score(Ytrain,XPred1))\n",
    "print(\"Test Accuracy:\", metrics.accuracy_score(Ytest,X_Pred1))\n",
    "print(\"Confusion Matrix for Random Forest:\")\n",
    "print(confusion_matrix(Ytest,X_Pred1))\n",
    "print('Printing the precision and recall, among other metrics')\n",
    "print(metrics.classification_report(Ytest, X_Pred1))\n",
    "clf_cv_score = cross_val_score(rf ,Xtrain, Ytrain, cv=10, scoring=\"accuracy\")\n",
    "print(\"Accuracy of Model with Cross Validation is:\",clf_cv_score.mean() * 100)"
   ]
  },
  {
   "cell_type": "markdown",
   "id": "bd068578",
   "metadata": {},
   "source": [
    "# ***Decision Tree: Random & Grid Search***"
   ]
  },
  {
   "cell_type": "markdown",
   "id": "25b964bb",
   "metadata": {},
   "source": [
    "***Hyperparameter tuning done for decision tree classifier***"
   ]
  },
  {
   "cell_type": "markdown",
   "id": "35265a3b",
   "metadata": {},
   "source": [
    "***RANDOM SEARCH***"
   ]
  },
  {
   "cell_type": "code",
   "execution_count": 16,
   "id": "13da869a",
   "metadata": {},
   "outputs": [
    {
     "name": "stdout",
     "output_type": "stream",
     "text": [
      "Randomized Search CV for Decision tree\n",
      "{'min_samples_leaf': 30, 'max_depth': 15, 'criterion': 'gini'}\n",
      "Accuracy Score for Decision Tree:0.897430\n",
      "--- 3.0424840450286865 seconds ---\n"
     ]
    }
   ],
   "source": [
    "import time\n",
    "start_time = time.time()\n",
    "\n",
    "print(\"Randomized Search CV for Decision tree\")\n",
    "parameters={'min_samples_leaf' : range(10,300,10),'max_depth': \n",
    "            range(5,30,2),'criterion':['gini','entropy']}\n",
    "dt_random = RandomizedSearchCV(dt,parameters,n_iter=25,cv=5)\n",
    "dt_random.fit(Xtrain, Ytrain)\n",
    "grid_parm=dt_random.best_params_\n",
    "print(grid_parm)\n",
    "print(\"Accuracy Score for Decision Tree:{0:6f}\".\n",
    "      format(dt_random.score(Xtest,Ytest)))\n",
    "\n",
    "print(\"--- %s seconds ---\" % (time.time() - start_time))"
   ]
  },
  {
   "cell_type": "markdown",
   "id": "5875a0f4",
   "metadata": {},
   "source": [
    "***GRID SEARCH***"
   ]
  },
  {
   "cell_type": "code",
   "execution_count": 17,
   "id": "18c82d4b",
   "metadata": {},
   "outputs": [
    {
     "name": "stdout",
     "output_type": "stream",
     "text": [
      "Grid Search CV for Decision tree\n",
      "{'criterion': 'entropy', 'max_depth': 7, 'min_samples_leaf': 30}\n",
      "Accuracy Score for Decision Tree:0.897430\n",
      "--- 74.73814749717712 seconds ---\n"
     ]
    }
   ],
   "source": [
    "import time\n",
    "start_time = time.time()\n",
    "\n",
    "print(\"Grid Search CV for Decision tree\")\n",
    "dt_grid = GridSearchCV(dt,parameters)\n",
    "dt_grid.fit(Xtrain, Ytrain)\n",
    "grid_parm1=dt_grid.best_params_\n",
    "print(grid_parm1)\n",
    "print(\"Accuracy Score for Decision Tree:{0:6f}\".\n",
    "      format(dt_grid.score(Xtest,Ytest)))\n",
    "\n",
    "print(\"--- %s seconds ---\" % (time.time() - start_time))"
   ]
  },
  {
   "cell_type": "code",
   "execution_count": 18,
   "id": "34472369",
   "metadata": {},
   "outputs": [],
   "source": [
    "#Using the parameters obtained from HyperParameterTuning in the DecisionTreeClassifier \n",
    "dtRand = DecisionTreeClassifier(**grid_parm)\n",
    "dtGrid = DecisionTreeClassifier(**grid_parm1)\n",
    "\n",
    "dtRand.fit(Xtrain,Ytrain)\n",
    "dtRand_predict = dtRand.predict(Xtest)\n",
    "dtGrid.fit(Xtrain,Ytrain)\n",
    "dtGrid_predict = dtGrid.predict(Xtest)"
   ]
  },
  {
   "cell_type": "markdown",
   "id": "68c13c8d",
   "metadata": {},
   "source": [
    "***Accuracy for Decision Tree using Random Search CV for Hyperparameter Tuning***"
   ]
  },
  {
   "cell_type": "code",
   "execution_count": 19,
   "id": "3e1948d1",
   "metadata": {},
   "outputs": [
    {
     "name": "stdout",
     "output_type": "stream",
     "text": [
      "Test Accuracy: 0.8974299427155906\n",
      "Confusion Matrix for Decision Tree:\n",
      "[[11427   993]\n",
      " [  332   166]]\n",
      "Printing the precision and recall, among other metrics\n",
      "              precision    recall  f1-score   support\n",
      "\n",
      "          No       0.97      0.92      0.95     12420\n",
      "         Yes       0.14      0.33      0.20       498\n",
      "\n",
      "    accuracy                           0.90     12918\n",
      "   macro avg       0.56      0.63      0.57     12918\n",
      "weighted avg       0.94      0.90      0.92     12918\n",
      "\n",
      "Accuracy of Model with Cross Validation is: 87.62976588628761\n"
     ]
    }
   ],
   "source": [
    "# Accuracy for Decision Tree using Random Search CV for Hyperparameter Tuning\n",
    "\n",
    "print(\"Test Accuracy:\", metrics.accuracy_score(Ytest,dtRand_predict))\n",
    "print(\"Confusion Matrix for Decision Tree:\")\n",
    "print(confusion_matrix(Ytest,dtRand_predict))\n",
    "print('Printing the precision and recall, among other metrics')\n",
    "print(metrics.classification_report(Ytest, dtRand_predict))\n",
    "clf_cv_score = cross_val_score(dtRand, Xtrain, Ytrain, cv=10, scoring=\"accuracy\")\n",
    "print(\"Accuracy of Model with Cross Validation is:\",clf_cv_score.mean() * 100)"
   ]
  },
  {
   "cell_type": "markdown",
   "id": "be020d54",
   "metadata": {},
   "source": [
    "***Accuracy for Decision Tree using Grid Search for Hyperparameter Tuning***"
   ]
  },
  {
   "cell_type": "code",
   "execution_count": 20,
   "id": "c9dda395",
   "metadata": {},
   "outputs": [
    {
     "name": "stdout",
     "output_type": "stream",
     "text": [
      "Test Accuracy: 0.8974299427155906\n",
      "Confusion Matrix for Decision Tree:\n",
      "[[11427   993]\n",
      " [  332   166]]\n",
      "Printing the precision and recall, among other metrics\n",
      "              precision    recall  f1-score   support\n",
      "\n",
      "          No       0.97      0.92      0.95     12420\n",
      "         Yes       0.14      0.33      0.20       498\n",
      "\n",
      "    accuracy                           0.90     12918\n",
      "   macro avg       0.56      0.63      0.57     12918\n",
      "weighted avg       0.94      0.90      0.92     12918\n",
      "\n",
      "Accuracy of Model with Cross Validation is: 87.8964325529543\n"
     ]
    }
   ],
   "source": [
    "# Accuracy for Decision Tree using Grid Search for Hyperparameter Tuning\n",
    "\n",
    "print(\"Test Accuracy:\", metrics.accuracy_score(Ytest,dtGrid_predict))\n",
    "print(\"Confusion Matrix for Decision Tree:\")\n",
    "print(confusion_matrix(Ytest,dtGrid_predict))\n",
    "print('Printing the precision and recall, among other metrics')\n",
    "print(metrics.classification_report(Ytest, dtGrid_predict))\n",
    "clf_cv_score = cross_val_score(dtGrid, Xtrain, Ytrain, cv=10, scoring=\"accuracy\")\n",
    "print(\"Accuracy of Model with Cross Validation is:\",clf_cv_score.mean() * 100)"
   ]
  },
  {
   "cell_type": "markdown",
   "id": "caea7a35",
   "metadata": {},
   "source": [
    "# ***Random Forest: Random & Grid Search***"
   ]
  },
  {
   "cell_type": "markdown",
   "id": "14a6aa32",
   "metadata": {},
   "source": [
    "***Hyperparameter tuning done for random forest classifier***"
   ]
  },
  {
   "cell_type": "markdown",
   "id": "80d26994",
   "metadata": {},
   "source": [
    "***RANDOM SEARCH***"
   ]
  },
  {
   "cell_type": "code",
   "execution_count": 21,
   "id": "b923ee40",
   "metadata": {},
   "outputs": [
    {
     "name": "stdout",
     "output_type": "stream",
     "text": [
      "Randomized Search CV for Random Forest\n",
      "{'n_estimators': 20, 'min_samples_leaf': 10, 'max_features': 30, 'max_depth': 9}\n",
      "Accuracy Score for Random Forest:0.932962\n",
      "--- 8.791207075119019 seconds ---\n"
     ]
    }
   ],
   "source": [
    "import time\n",
    "start_time = time.time()\n",
    "\n",
    "print(\"Randomized Search CV for Random Forest\")\n",
    "rand_parameters={'min_samples_leaf' : range(10,100,10),'max_depth': \n",
    "            range(1,10,2),'max_features':[10,20,30],'n_estimators':[20,30,40]}\n",
    "rf_random = RandomizedSearchCV(rf,rand_parameters,n_iter=25,cv=5)\n",
    "rf_random.fit(Xtrain, Ytrain)\n",
    "grid_parm=rf_random.best_params_\n",
    "print(grid_parm)\n",
    "print(\"Accuracy Score for Random Forest:{0:6f}\".\n",
    "      format(rf_random.score(Xtest,Ytest)))\n",
    "\n",
    "print(\"--- %s seconds ---\" % (time.time() - start_time))"
   ]
  },
  {
   "cell_type": "markdown",
   "id": "a5d620ef",
   "metadata": {},
   "source": [
    "**GRID SEARCH**"
   ]
  },
  {
   "cell_type": "code",
   "execution_count": 22,
   "id": "d9bc614f",
   "metadata": {},
   "outputs": [
    {
     "name": "stdout",
     "output_type": "stream",
     "text": [
      "Grid Search CV for Random Forest\n",
      "{'max_depth': 9, 'max_features': 30, 'min_samples_leaf': 20, 'n_estimators': 40}\n",
      "Accuracy Score for Random Forest:0.932730\n",
      "--- 134.47368168830872 seconds ---\n"
     ]
    }
   ],
   "source": [
    "import time\n",
    "start_time = time.time()\n",
    "\n",
    "print(\"Grid Search CV for Random Forest\")\n",
    "rf_grid = GridSearchCV(rf,rand_parameters)\n",
    "rf_grid.fit(Xtrain, Ytrain)\n",
    "grid_parm1=rf_grid.best_params_\n",
    "print(grid_parm1)\n",
    "print(\"Accuracy Score for Random Forest:{0:6f}\".\n",
    "      format(rf_grid.score(Xtest,Ytest)))\n",
    "\n",
    "print(\"--- %s seconds ---\" % (time.time() - start_time))"
   ]
  },
  {
   "cell_type": "code",
   "execution_count": 23,
   "id": "778cf0e1",
   "metadata": {},
   "outputs": [],
   "source": [
    "#Using the parameters obtained from HyperParameterTuning in the RandomForestClassifier \n",
    "rfRand = RandomForestClassifier(**grid_parm)\n",
    "rfGrid = RandomForestClassifier(**grid_parm1)\n",
    "\n",
    "rfRand.fit(Xtrain,Ytrain)\n",
    "rfRand_predict = rfRand.predict(Xtest)\n",
    "rfGrid.fit(Xtrain,Ytrain)\n",
    "rfGrid_predict = rfGrid.predict(Xtest)"
   ]
  },
  {
   "cell_type": "markdown",
   "id": "4cbceb81",
   "metadata": {},
   "source": [
    "***Accuracy for Random Forest using Random Search CV for Hyperparameter Tuning***"
   ]
  },
  {
   "cell_type": "code",
   "execution_count": 24,
   "id": "b5552d39",
   "metadata": {},
   "outputs": [
    {
     "name": "stdout",
     "output_type": "stream",
     "text": [
      "Test Accuracy: 0.9326521133302369\n",
      "Confusion Matrix for Random Forest:\n",
      "[[11925   495]\n",
      " [  375   123]]\n",
      "Printing the precision and recall, among other metrics\n",
      "              precision    recall  f1-score   support\n",
      "\n",
      "          No       0.97      0.96      0.96     12420\n",
      "         Yes       0.20      0.25      0.22       498\n",
      "\n",
      "    accuracy                           0.93     12918\n",
      "   macro avg       0.58      0.60      0.59     12918\n",
      "weighted avg       0.94      0.93      0.94     12918\n",
      "\n",
      "Accuracy of Model with Cross Validation is: 88.92938230383972\n"
     ]
    }
   ],
   "source": [
    "# Accuracy for Random Forest using Random Search CV for Hyperparameter Tuning\n",
    "\n",
    "print(\"Test Accuracy:\", metrics.accuracy_score(Ytest,rfRand_predict))\n",
    "print(\"Confusion Matrix for Random Forest:\")\n",
    "print(confusion_matrix(Ytest,rfRand_predict))\n",
    "print('Printing the precision and recall, among other metrics')\n",
    "print(metrics.classification_report(Ytest, rfRand_predict))\n",
    "clf_cv_score = cross_val_score(rfRand, Xtrain, Ytrain, cv=5, scoring=\"accuracy\")\n",
    "print(\"Accuracy of Model with Cross Validation is:\",clf_cv_score.mean() * 100)"
   ]
  },
  {
   "cell_type": "markdown",
   "id": "e6ad61d7",
   "metadata": {},
   "source": [
    "***Accuracy for Random Forest using Grid Search for Hyperparameter Tuning***"
   ]
  },
  {
   "cell_type": "code",
   "execution_count": 25,
   "id": "b8707be9",
   "metadata": {},
   "outputs": [
    {
     "name": "stdout",
     "output_type": "stream",
     "text": [
      "Test Accuracy: 0.9285493110388605\n",
      "Confusion Matrix for Random Forest:\n",
      "[[11877   543]\n",
      " [  380   118]]\n",
      "Printing the precision and recall, among other metrics\n",
      "              precision    recall  f1-score   support\n",
      "\n",
      "          No       0.97      0.96      0.96     12420\n",
      "         Yes       0.18      0.24      0.20       498\n",
      "\n",
      "    accuracy                           0.93     12918\n",
      "   macro avg       0.57      0.60      0.58     12918\n",
      "weighted avg       0.94      0.93      0.93     12918\n",
      "\n",
      "Accuracy of Model with Cross Validation is: 88.72954292084727\n"
     ]
    }
   ],
   "source": [
    "# Accuracy for Random Forest using Grid Search for Hyperparameter Tuning\n",
    "\n",
    "print(\"Test Accuracy:\", metrics.accuracy_score(Ytest,rfGrid_predict))\n",
    "print(\"Confusion Matrix for Random Forest:\")\n",
    "print(confusion_matrix(Ytest,rfGrid_predict))\n",
    "print('Printing the precision and recall, among other metrics')\n",
    "print(metrics.classification_report(Ytest, rfGrid_predict))\n",
    "clf_cv_score = cross_val_score(rfGrid, Xtrain, Ytrain, cv=10, scoring=\"accuracy\")\n",
    "print(\"Accuracy of Model with Cross Validation is:\",clf_cv_score.mean() * 100)"
   ]
  },
  {
   "cell_type": "code",
   "execution_count": null,
   "id": "9d9fc3a9",
   "metadata": {},
   "outputs": [],
   "source": []
  }
 ],
 "metadata": {
  "kernelspec": {
   "display_name": "Python 3 (ipykernel)",
   "language": "python",
   "name": "python3"
  },
  "language_info": {
   "codemirror_mode": {
    "name": "ipython",
    "version": 3
   },
   "file_extension": ".py",
   "mimetype": "text/x-python",
   "name": "python",
   "nbconvert_exporter": "python",
   "pygments_lexer": "ipython3",
   "version": "3.9.12"
  }
 },
 "nbformat": 4,
 "nbformat_minor": 5
}
